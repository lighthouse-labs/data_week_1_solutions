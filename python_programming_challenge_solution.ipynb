{
 "cells": [
  {
   "cell_type": "markdown",
   "metadata": {},
   "source": [
    "## Poker Hand\n",
    "\n",
    "In this challenge, we have to find out which kind of Poker combination is present in a deck of 5 cards.Every card is a string containing the card value (with the upper-case initial for face-cards) and the lower-case initial for suits, as in the examples below:\n",
    "\n",
    "> \"Ah\" ➞ Ace of hearts <br>\n",
    "> \"Ks\" ➞ King of spades<br>\n",
    "> \"3d\" ➞ Three of diamonds<br>\n",
    "> \"Qc\" ➞ Queen of clubs <br>\n",
    "\n",
    "There are 10 different combinations. Here's the list, in decreasing order of importance:"
   ]
  },
  {
   "cell_type": "markdown",
   "metadata": {},
   "source": [
    "| Name            | Description                                         |\n",
    "|-----------------|-----------------------------------------------------|\n",
    "| Royal Flush     | A, K, Q, J, 10, all with the same suit.             |\n",
    "| Straight Flush  | Five cards in sequence, all with the same suit.     |\n",
    "| Four of a Kind  | Four cards of the same rank.                        |\n",
    "| Full House      | Three of a Kind with a Pair.                        |\n",
    "| Flush           | Any five cards of the same suit, not in sequence    |\n",
    "| Straight        | Five cards in a sequence, but not of the same suit. |\n",
    "| Three of a Kind | Three cards of the same rank.                       |\n",
    "| Two Pair        | Two different Pairs.                                |\n",
    "| Pair            | Two cards of the same rank.                         |\n",
    "| High Card       | No other valid combination.                         |"
   ]
  },
  {
   "cell_type": "markdown",
   "metadata": {},
   "source": [
    "### 1. Given a list `hand` containing five strings being the cards, implement a function `poker_hand_ranking` that returns a string with the name of the **highest** combination obtained, accordingly to the table above.\n",
    "\n",
    "#### Examples\n",
    "\n",
    "> poker_hand_ranking([\"10h\", \"Jh\", \"Qh\", \"Ah\", \"Kh\"]) ➞ \"Royal Flush\"<br>\n",
    "> poker_hand_ranking([\"3h\", \"5h\", \"Qs\", \"9h\", \"Ad\"]) ➞ \"High Card\"<br>\n",
    "> poker_hand_ranking([\"10s\", \"10c\", \"8d\", \"10d\", \"10h\"]) ➞ \"Four of a Kind\"<br>"
   ]
  },
  {
   "cell_type": "code",
   "execution_count": null,
   "metadata": {
    "ExecuteTime": {
     "end_time": "2020-07-23T07:36:34.756054Z",
     "start_time": "2020-07-23T07:36:34.746244Z"
    }
   },
   "outputs": [],
   "source": [
    "def poker_hand_ranking(deck):\n",
    "    order = ['2', '3', '4', '5', '6', '7', '8', '9', '10', 'J', 'Q', 'K', 'A']\n",
    "    ranks = sorted([i[:-1] for i in deck], key=order.index)\n",
    "    flush = len(set(i[-1] for i in deck)) == 1\n",
    "    group = tuple(sorted([ranks.count(r) for r in set(ranks)], reverse=True))\n",
    "    straight = len(set(ranks)) == 5 and order.index(ranks[-1]) - order.index(ranks[0]) == 4\n",
    "    if straight and flush:\n",
    "        return 'Royal Flush' if ranks[-1] == 'A' else 'Straight Flush'\n",
    "    if straight:\n",
    "        return 'Straight'\n",
    "    if flush:\n",
    "        return 'Flush'\n",
    "    hands = {(4, 1): 'Four of a Kind',\n",
    "             (3, 2): 'Full House',\n",
    "             (3, 1, 1): 'Three of a Kind',\n",
    "             (2, 2, 1): 'Two Pair',\n",
    "             (2, 1, 1, 1): 'Pair',\n",
    "             (1, 1, 1, 1, 1): 'High Card'}\n",
    "    return hands[group]"
   ]
  },
  {
   "cell_type": "markdown",
   "metadata": {},
   "source": [
    "### 2.  Implement a function `winner_is` that returns the winner given a dictionary with different players and their hands. For example:\n",
    "\n",
    "#### Example\n",
    "\n",
    "We define dictionary like\n",
    "```\n",
    "round_1 = {\"John\" = [\"10h\", \"Jh\", \"Qh\", \"Ah\", \"Kh\"], \n",
    "        \"Peter\" = [\"3h\", \"5h\", \"Qs\", \"9h\", \"Ad\"]\n",
    "}\n",
    "```\n",
    "\n",
    "Our function returns the name of the winner:\n",
    "> winner_is(round_1) -> \"John\"\n",
    "\n",
    "One table can have up to 10 players.\n"
   ]
  },
  {
   "cell_type": "code",
   "execution_count": null,
   "metadata": {
    "ExecuteTime": {
     "end_time": "2020-07-23T07:39:16.481171Z",
     "start_time": "2020-07-23T07:39:16.476144Z"
    }
   },
   "outputs": [],
   "source": [
    "round_1 = {\"John\" :[\"10h\", \"Jh\", \"Qh\", \"Ah\", \"Kh\"], \n",
    "            \"Peter\" : [\"3h\", \"5h\", \"Qs\", \"9h\", \"Ad\"]}"
   ]
  },
  {
   "cell_type": "code",
   "execution_count": null,
   "metadata": {
    "ExecuteTime": {
     "end_time": "2020-07-23T07:41:51.583035Z",
     "start_time": "2020-07-23T07:41:51.574670Z"
    }
   },
   "outputs": [],
   "source": [
    "def winner_is(players):\n",
    "    comb = [\n",
    "        'Royal Flush',\n",
    "        'Straight Flush',\n",
    "        'Four of a Kind',\n",
    "        'Full House',\n",
    "        'Flush',\n",
    "        'Straight',\n",
    "        'Three of a Kind',\n",
    "        'Two Pair',\n",
    "        'Pair',\n",
    "        'High Card'\n",
    "    ]\n",
    "    comb_score = {c : index for index,c in  enumerate(comb[::-1])}\n",
    "    \n",
    "    player_score = {}\n",
    "    for player in players:\n",
    "        deck = players[player]\n",
    "        score = comb_score[poker_hand_ranking(deck)]\n",
    "        \n",
    "        player_score[player] = score\n",
    "    \n",
    "    return sorted(player_score.items(), key= lambda x: x[1], reverse=True)[0][0]"
   ]
  },
  {
   "cell_type": "code",
   "execution_count": null,
   "metadata": {
    "ExecuteTime": {
     "end_time": "2020-07-23T07:41:52.225027Z",
     "start_time": "2020-07-23T07:41:52.210838Z"
    }
   },
   "outputs": [],
   "source": [
    "winner_is(round_1)"
   ]
  },
  {
   "cell_type": "markdown",
   "metadata": {},
   "source": [
    "### Optional: Create a generator that randomly gives 5 cards to every player given a list of player names\n",
    "#### Example\n",
    "\n",
    "> distribute_cards([\"John\",\"Peter\"])  -> round_1 = {\"John\" = [\"10h\", \"Jh\", \"Qh\", \"Ah\", \"Kh\"], \n",
    "        \"Peter\" = [\"3h\", \"5h\", \"Qs\", \"9h\", \"Ad\"]\n",
    "}"
   ]
  },
  {
   "cell_type": "code",
   "execution_count": null,
   "metadata": {
    "ExecuteTime": {
     "end_time": "2020-07-23T08:00:06.775002Z",
     "start_time": "2020-07-23T08:00:06.763276Z"
    }
   },
   "outputs": [],
   "source": [
    "from random import randint\n",
    "\n",
    "\n",
    "def distribute_cards(players):\n",
    "    if len(players)*5 > 52:\n",
    "        print('Too much players for 52 cards.')\n",
    "        return None\n",
    "    \n",
    "    orders = ['2', '3', '4', '5', '6', '7', '8', '9', '10', 'J', 'Q', 'K', 'A']\n",
    "    suits = ['h','s','d','c']\n",
    "\n",
    "    cards = [order+suit for order in orders for suit in suits]\n",
    "\n",
    "    result = {}\n",
    "    used_cards = []\n",
    "    \n",
    "    for player in players:\n",
    "        player_cards = []\n",
    "\n",
    "        while len(player_cards) < 5:\n",
    "            card_index = randint(0, len(cards)-1)\n",
    "            card = cards[card_index]\n",
    "\n",
    "            if card not in used_cards:\n",
    "                player_cards.append(card)\n",
    "\n",
    "            used_cards.append(card)\n",
    "\n",
    "        result[player] = player_cards\n",
    "        \n",
    "    return result"
   ]
  },
  {
   "cell_type": "code",
   "execution_count": null,
   "metadata": {
    "ExecuteTime": {
     "end_time": "2020-07-23T08:00:24.502322Z",
     "start_time": "2020-07-23T08:00:24.495259Z"
    }
   },
   "outputs": [],
   "source": [
    "distribute_cards(['kcr','mck'])"
   ]
  },
  {
   "cell_type": "code",
   "execution_count": null,
   "metadata": {},
   "outputs": [],
   "source": []
  },
  {
   "cell_type": "code",
   "execution_count": null,
   "metadata": {},
   "outputs": [],
   "source": []
  }
 ],
 "metadata": {
  "kernelspec": {
   "display_name": "Python 3",
   "language": "python",
   "name": "python3"
  },
  "language_info": {
   "codemirror_mode": {
    "name": "ipython",
    "version": 3
   },
   "file_extension": ".py",
   "mimetype": "text/x-python",
   "name": "python",
   "nbconvert_exporter": "python",
   "pygments_lexer": "ipython3",
   "version": "3.7.4"
  },
  "toc": {
   "base_numbering": 1,
   "nav_menu": {},
   "number_sections": true,
   "sideBar": true,
   "skip_h1_title": false,
   "title_cell": "Table of Contents",
   "title_sidebar": "Contents",
   "toc_cell": false,
   "toc_position": {},
   "toc_section_display": true,
   "toc_window_display": false
  },
  "varInspector": {
   "cols": {
    "lenName": 16,
    "lenType": 16,
    "lenVar": 40
   },
   "kernels_config": {
    "python": {
     "delete_cmd_postfix": "",
     "delete_cmd_prefix": "del ",
     "library": "var_list.py",
     "varRefreshCmd": "print(var_dic_list())"
    },
    "r": {
     "delete_cmd_postfix": ") ",
     "delete_cmd_prefix": "rm(",
     "library": "var_list.r",
     "varRefreshCmd": "cat(var_dic_list()) "
    }
   },
   "types_to_exclude": [
    "module",
    "function",
    "builtin_function_or_method",
    "instance",
    "_Feature"
   ],
   "window_display": false
  }
 },
 "nbformat": 4,
 "nbformat_minor": 4
}
