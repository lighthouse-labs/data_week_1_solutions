{
 "cells": [
  {
   "cell_type": "markdown",
   "metadata": {},
   "source": [
    "# Mini-Project I\n",
    "During this project, we will practice handling of complex lists and dictionaries in Python. Plus, we will learn how to work with API documentation. Don't be afraid to search for the information in the [**documentation**](https://api.tfl.gov.uk/swagger/ui/index.html?url=/swagger/docs/v1#!/AccidentStats/AccidentStats_Get)."
   ]
  },
  {
   "cell_type": "code",
   "execution_count": null,
   "metadata": {
    "ExecuteTime": {
     "end_time": "2020-07-23T06:13:39.612092Z",
     "start_time": "2020-07-23T06:13:39.335618Z"
    }
   },
   "outputs": [],
   "source": [
    "# import packages we need (remember what packages we used yesterday during the API session)\n",
    "import requests as re"
   ]
  },
  {
   "cell_type": "code",
   "execution_count": null,
   "metadata": {},
   "outputs": [],
   "source": []
  },
  {
   "cell_type": "markdown",
   "metadata": {},
   "source": [
    "## Demo"
   ]
  },
  {
   "cell_type": "code",
   "execution_count": null,
   "metadata": {
    "ExecuteTime": {
     "end_time": "2020-07-23T06:13:40.486584Z",
     "start_time": "2020-07-23T06:13:40.482480Z"
    }
   },
   "outputs": [],
   "source": [
    "# URL\n",
    "url = \"https://api.tfl.gov.uk/AirQuality\""
   ]
  },
  {
   "cell_type": "code",
   "execution_count": null,
   "metadata": {
    "ExecuteTime": {
     "end_time": "2020-07-23T06:13:44.185324Z",
     "start_time": "2020-07-23T06:13:40.873646Z"
    }
   },
   "outputs": [],
   "source": [
    "# We send the request to the API\n",
    "res = re.get(url)"
   ]
  },
  {
   "cell_type": "code",
   "execution_count": null,
   "metadata": {
    "ExecuteTime": {
     "end_time": "2020-07-23T06:13:44.362097Z",
     "start_time": "2020-07-23T06:13:44.324280Z"
    }
   },
   "outputs": [],
   "source": [
    "# We can check if the request was successful\n",
    "json = res.json()\n",
    "json"
   ]
  },
  {
   "cell_type": "code",
   "execution_count": null,
   "metadata": {},
   "outputs": [],
   "source": []
  },
  {
   "cell_type": "code",
   "execution_count": null,
   "metadata": {},
   "outputs": [],
   "source": []
  },
  {
   "cell_type": "markdown",
   "metadata": {},
   "source": [
    "## Task\n",
    "Parse the dictionary and print the AirQuality predictions for tomorrow"
   ]
  },
  {
   "cell_type": "code",
   "execution_count": null,
   "metadata": {
    "ExecuteTime": {
     "end_time": "2020-07-23T06:14:05.707876Z",
     "start_time": "2020-07-23T06:14:05.700871Z"
    }
   },
   "outputs": [],
   "source": [
    "json['currentForecast'][1]['forecastText']"
   ]
  },
  {
   "cell_type": "code",
   "execution_count": null,
   "metadata": {},
   "outputs": [],
   "source": []
  },
  {
   "cell_type": "code",
   "execution_count": null,
   "metadata": {},
   "outputs": [],
   "source": []
  },
  {
   "cell_type": "markdown",
   "metadata": {},
   "source": [
    "## Task\n",
    "What are the different modes of transport which are operated by Transfer for London? How many of modes do they have?\n",
    "\n",
    "Print the list with different modes of transport, plus their count. Example output:\n",
    "```\n",
    "[bus, cable-car,.....]\n",
    "Number of different modes of transport is: xyz\n",
    "```\n",
    "\n",
    "We need to search the documentation for correct request."
   ]
  },
  {
   "cell_type": "code",
   "execution_count": null,
   "metadata": {
    "ExecuteTime": {
     "end_time": "2020-07-23T06:14:26.588336Z",
     "start_time": "2020-07-23T06:14:26.579668Z"
    }
   },
   "outputs": [],
   "source": [
    "url = \"https://api.tfl.gov.uk/Journey/Meta/Modes\""
   ]
  },
  {
   "cell_type": "code",
   "execution_count": null,
   "metadata": {
    "ExecuteTime": {
     "end_time": "2020-07-23T06:14:27.501080Z",
     "start_time": "2020-07-23T06:14:27.149918Z"
    }
   },
   "outputs": [],
   "source": [
    "r = re.get(url)\n",
    "json = r.json()"
   ]
  },
  {
   "cell_type": "code",
   "execution_count": null,
   "metadata": {
    "ExecuteTime": {
     "end_time": "2020-07-23T06:14:37.607200Z",
     "start_time": "2020-07-23T06:14:37.602966Z"
    }
   },
   "outputs": [],
   "source": [
    "modes = list(set([item.get('modeName') for item in json]))"
   ]
  },
  {
   "cell_type": "code",
   "execution_count": null,
   "metadata": {
    "ExecuteTime": {
     "end_time": "2020-07-23T06:14:38.576790Z",
     "start_time": "2020-07-23T06:14:38.571614Z"
    }
   },
   "outputs": [],
   "source": [
    "print(modes)"
   ]
  },
  {
   "cell_type": "code",
   "execution_count": null,
   "metadata": {
    "ExecuteTime": {
     "end_time": "2020-07-23T06:14:39.561819Z",
     "start_time": "2020-07-23T06:14:39.556341Z"
    }
   },
   "outputs": [],
   "source": [
    "print(len(modes))"
   ]
  },
  {
   "cell_type": "markdown",
   "metadata": {
    "ExecuteTime": {
     "end_time": "2020-07-23T04:58:55.214613Z",
     "start_time": "2020-07-23T04:58:55.208639Z"
    }
   },
   "source": [
    "## Task\n",
    "How many BikePoints in London are operated by Transfor for London? How many docks are in all BikePoints? There is the information for empty and full docks for each BikePoint."
   ]
  },
  {
   "cell_type": "code",
   "execution_count": null,
   "metadata": {
    "ExecuteTime": {
     "end_time": "2020-07-23T06:14:42.178142Z",
     "start_time": "2020-07-23T06:14:40.640178Z"
    }
   },
   "outputs": [],
   "source": [
    "r = re.get('https://api.tfl.gov.uk/BikePoint')\n",
    "json = r.json()"
   ]
  },
  {
   "cell_type": "code",
   "execution_count": null,
   "metadata": {
    "ExecuteTime": {
     "end_time": "2020-07-23T06:14:45.292117Z",
     "start_time": "2020-07-23T06:14:45.285016Z"
    }
   },
   "outputs": [],
   "source": [
    "print(f'Count BikePoints: {len(json)}')"
   ]
  },
  {
   "cell_type": "code",
   "execution_count": null,
   "metadata": {
    "ExecuteTime": {
     "end_time": "2020-07-23T06:14:45.978659Z",
     "start_time": "2020-07-23T06:14:45.939820Z"
    },
    "scrolled": true
   },
   "outputs": [],
   "source": [
    "for bikepoint in json:\n",
    "    name = bikepoint['commonName']\n",
    "    docks = bikepoint['additionalProperties'][-1]['value']\n",
    "    empty = bikepoint['additionalProperties'][-2]['value']\n",
    "    \n",
    "    print(f'Name: {name}, Docks: {docks}, Empty: {empty}')"
   ]
  },
  {
   "cell_type": "code",
   "execution_count": null,
   "metadata": {},
   "outputs": [],
   "source": []
  },
  {
   "cell_type": "markdown",
   "metadata": {},
   "source": [
    "## Task\n",
    "How many tube and bus lines are in London? Print names of all tube lines."
   ]
  },
  {
   "cell_type": "code",
   "execution_count": null,
   "metadata": {
    "ExecuteTime": {
     "end_time": "2020-07-23T06:14:50.573888Z",
     "start_time": "2020-07-23T06:14:48.117068Z"
    }
   },
   "outputs": [],
   "source": [
    "r = re.get('https://api.tfl.gov.uk/Line/Mode/bus')\n",
    "json = r.json()"
   ]
  },
  {
   "cell_type": "code",
   "execution_count": null,
   "metadata": {
    "ExecuteTime": {
     "end_time": "2020-07-23T06:14:52.275326Z",
     "start_time": "2020-07-23T06:14:52.270680Z"
    }
   },
   "outputs": [],
   "source": [
    "print(f'Count bus lines: {len(json)}')"
   ]
  },
  {
   "cell_type": "code",
   "execution_count": null,
   "metadata": {
    "ExecuteTime": {
     "end_time": "2020-07-23T06:14:53.452990Z",
     "start_time": "2020-07-23T06:14:53.190994Z"
    }
   },
   "outputs": [],
   "source": [
    "r = re.get('https://api.tfl.gov.uk/Line/Mode/tube')\n",
    "json = r.json()"
   ]
  },
  {
   "cell_type": "code",
   "execution_count": null,
   "metadata": {
    "ExecuteTime": {
     "end_time": "2020-07-23T06:14:54.116810Z",
     "start_time": "2020-07-23T06:14:54.110795Z"
    }
   },
   "outputs": [],
   "source": [
    "print(f'Count tube lines: {len(json)}')"
   ]
  },
  {
   "cell_type": "code",
   "execution_count": null,
   "metadata": {
    "ExecuteTime": {
     "end_time": "2020-07-23T06:15:02.642100Z",
     "start_time": "2020-07-23T06:15:02.635474Z"
    }
   },
   "outputs": [],
   "source": [
    "for tubeline in json:\n",
    "    print(f\"Tube line name: {tubeline.get('name')}\")"
   ]
  },
  {
   "cell_type": "code",
   "execution_count": null,
   "metadata": {},
   "outputs": [],
   "source": []
  },
  {
   "cell_type": "markdown",
   "metadata": {},
   "source": [
    "## Task\n",
    "How many station has victoria line."
   ]
  },
  {
   "cell_type": "code",
   "execution_count": null,
   "metadata": {
    "ExecuteTime": {
     "end_time": "2020-07-23T06:17:13.515068Z",
     "start_time": "2020-07-23T06:17:13.380748Z"
    }
   },
   "outputs": [],
   "source": [
    "r = re.get('https://api.tfl.gov.uk/Line/victoria/StopPoints')\n",
    "json = r.json()"
   ]
  },
  {
   "cell_type": "code",
   "execution_count": null,
   "metadata": {
    "ExecuteTime": {
     "end_time": "2020-07-23T06:17:13.822382Z",
     "start_time": "2020-07-23T06:17:13.811993Z"
    }
   },
   "outputs": [],
   "source": [
    "print(f'Count stations: {len(json)}')"
   ]
  },
  {
   "cell_type": "markdown",
   "metadata": {},
   "source": [
    "## Task\n",
    "Plan the journey from Heathrow Airport to Tower Bridge using Public Transport, Taxi or Bike? Which way is the fastest? Example output:\n",
    "```\n",
    "Planned duration:\n",
    "Bus: x minutes\n",
    "Tube: y minutes\n",
    "```\n",
    "\n",
    "We need to search the documentation for correct requests."
   ]
  },
  {
   "cell_type": "code",
   "execution_count": null,
   "metadata": {
    "ExecuteTime": {
     "end_time": "2020-07-23T06:15:27.759291Z",
     "start_time": "2020-07-23T06:15:09.251465Z"
    }
   },
   "outputs": [],
   "source": [
    "r = re.get(f'https://api.tfl.gov.uk/Journey/JourneyResults/51.4700%2C%20-0.4543/to/51.5055%2C%20-0.0754?mode=Motorbike-scooter'\n",
    "          \n",
    "          )"
   ]
  },
  {
   "cell_type": "code",
   "execution_count": null,
   "metadata": {
    "ExecuteTime": {
     "end_time": "2020-07-23T06:15:31.759317Z",
     "start_time": "2020-07-23T06:15:31.705600Z"
    }
   },
   "outputs": [],
   "source": [
    "r.json()"
   ]
  },
  {
   "cell_type": "code",
   "execution_count": null,
   "metadata": {
    "ExecuteTime": {
     "end_time": "2020-07-23T06:16:46.223238Z",
     "start_time": "2020-07-23T06:15:56.814771Z"
    }
   },
   "outputs": [],
   "source": [
    "print('Planned duration:')\n",
    "for m in modes:\n",
    "    if m.lower() in [\"bus\", \"tube\"]:\n",
    "        r = re.get(f'https://api.tfl.gov.uk/Journey/JourneyResults/51.4700%2C%20-0.4543/to/51.5055%2C%20-0.0754?mode={m}')\n",
    "        json = r.json()\n",
    "\n",
    "        if r.status_code == 200:\n",
    "\n",
    "            journeys = json['journeys']\n",
    "            durations = []\n",
    "            for j in journeys:\n",
    "                durations.append(j.get('duration'))\n",
    "\n",
    "            print(f'{m.capitalize()}: {min(durations)} minutes')\n",
    "\n",
    "        else:\n",
    "            print(f\"{m.capitalize()}: {json['message']}\")\n"
   ]
  },
  {
   "cell_type": "code",
   "execution_count": null,
   "metadata": {},
   "outputs": [],
   "source": []
  }
 ],
 "metadata": {
  "kernelspec": {
   "display_name": "Python 3",
   "language": "python",
   "name": "python3"
  },
  "language_info": {
   "codemirror_mode": {
    "name": "ipython",
    "version": 3
   },
   "file_extension": ".py",
   "mimetype": "text/x-python",
   "name": "python",
   "nbconvert_exporter": "python",
   "pygments_lexer": "ipython3",
   "version": "3.7.6"
  },
  "toc": {
   "base_numbering": 1,
   "nav_menu": {},
   "number_sections": true,
   "sideBar": true,
   "skip_h1_title": false,
   "title_cell": "Table of Contents",
   "title_sidebar": "Contents",
   "toc_cell": false,
   "toc_position": {},
   "toc_section_display": true,
   "toc_window_display": false
  },
  "varInspector": {
   "cols": {
    "lenName": 16,
    "lenType": 16,
    "lenVar": 40
   },
   "kernels_config": {
    "python": {
     "delete_cmd_postfix": "",
     "delete_cmd_prefix": "del ",
     "library": "var_list.py",
     "varRefreshCmd": "print(var_dic_list())"
    },
    "r": {
     "delete_cmd_postfix": ") ",
     "delete_cmd_prefix": "rm(",
     "library": "var_list.r",
     "varRefreshCmd": "cat(var_dic_list()) "
    }
   },
   "types_to_exclude": [
    "module",
    "function",
    "builtin_function_or_method",
    "instance",
    "_Feature"
   ],
   "window_display": false
  }
 },
 "nbformat": 4,
 "nbformat_minor": 4
}
